{
 "nbformat": 4,
 "nbformat_minor": 2,
 "metadata": {
  "language_info": {
   "name": "python",
   "codemirror_mode": {
    "name": "ipython",
    "version": 3
   },
   "version": "3.7.6-final"
  },
  "orig_nbformat": 2,
  "file_extension": ".py",
  "mimetype": "text/x-python",
  "name": "python",
  "npconvert_exporter": "python",
  "pygments_lexer": "ipython3",
  "version": 3,
  "kernelspec": {
   "name": "python36964bitnextendedhandcondac19ae95aa69f4601a894d6b08d9b6316",
   "display_name": "Python 3.6.9 64-bit ('nextendedHand': conda)"
  }
 },
 "cells": [
  {
   "cell_type": "markdown",
   "metadata": {},
   "source": [
    "# 長いwavデータを音の区切りごとに分割する"
   ]
  },
  {
   "cell_type": "code",
   "execution_count": 2,
   "metadata": {},
   "outputs": [
    {
     "name": "stdout",
     "output_type": "stream",
     "text": "aiueo_reimu 0\nmakura_reimu 41\naiueo_man 0\nmakura_man 41\naiueo_robot 0\nmakura_robot 41\n終了しました\n"
    }
   ],
   "source": [
    "import wave\n",
    "import numpy as np\n",
    "import matplotlib.pyplot as plt\n",
    "import csv\n",
    "import glob\n",
    "\n",
    "charas = ['reimu', 'man', 'robot']\n",
    "boise_names = ['aiueo_', 'makura_']\n",
    "\n",
    "for chara in charas:\n",
    "    for boise_name in boise_names:\n",
    "        file_name = './boises/' + boise_name + chara + '.wav'\n",
    "        wave_file = wave.open(file_name,\"r\") #Open\n",
    "\n",
    "        x = wave_file.readframes(wave_file.getnframes()) #frameの読み込み\n",
    "        x = np.frombuffer(x, dtype= \"int16\") #numpy.arrayに変換\n",
    "\n",
    "        # 分割して書き込み\n",
    "        wav_path = './' + chara + '_wavs/'\n",
    "    \n",
    "        fs = []\n",
    "        for f in glob.glob(wav_path + '*.wav'):\n",
    "            fs.append(f)\n",
    "        num = len(fs)\n",
    "        print(boise_name + chara + ' '+ str(num))\n",
    "        zero_count = 0\n",
    "        buf = np.array([])\n",
    "        start_flag = False\n",
    "\n",
    "        data_length = 8000*2\n",
    "\n",
    "        # あなたにあげたいあわおこしでくぎれる\n",
    "        thresh = 0\n",
    "        zero_thresh = 500\n",
    "\n",
    "        # thresh = 5\n",
    "        # zero_thresh = 50\n",
    "\n",
    "\n",
    "        for i in range(x.shape[0]):\n",
    "            if abs(x[i]) > thresh:\n",
    "                start_flag = True\n",
    "                zero_count = 0\n",
    "                buf = np.append(buf, x[i])\n",
    "            elif start_flag == False:\n",
    "                continue\n",
    "            else:\n",
    "                zero_count += 1\n",
    "                if zero_count < zero_thresh:\n",
    "                    buf = np.append(buf, x[i])\n",
    "                else:\n",
    "                    # ファイルへの書き込み\n",
    "                    if buf.shape[0] > 8000:\n",
    "                        # データの長さを3秒に固定する\n",
    "                        while buf.shape[0] < data_length:\n",
    "                            buf = np.append(buf, 0)\n",
    "                        if buf.shape[0] > data_length:\n",
    "                            buf = buf[0:data_length]\n",
    "                        write_wave = wave.Wave_write(wav_path + str(num) + \".wav\")\n",
    "                        p = (1, 2, 16000, (int)(buf.shape[0]), 'NONE', 'not compressed')\n",
    "                        write_wave.setparams(p)\n",
    "                        buf = np.array(buf, dtype=int)\n",
    "                        write_wave.writeframes(buf)\n",
    "                        write_wave.close()\n",
    "                        num += 1\n",
    "                    zero_count = 0\n",
    "                    buf = np.array([])\n",
    "                    start_flag = False\n",
    "print('終了しました')\n"
   ]
  },
  {
   "cell_type": "code",
   "execution_count": null,
   "metadata": {},
   "outputs": [],
   "source": []
  }
 ]
}